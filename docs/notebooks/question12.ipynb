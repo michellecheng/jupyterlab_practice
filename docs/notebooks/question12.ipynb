{
 "cells": [
  {
   "cell_type": "markdown",
   "id": "0b6c5f23-1a63-4e99-9b9e-ca26f12d5baf",
   "metadata": {},
   "source": [
    "**We are currently working in the following directory:**"
   ]
  },
  {
   "cell_type": "code",
   "execution_count": 1,
   "id": "d6121d3f-7589-4c1e-8721-b49ea61c45be",
   "metadata": {},
   "outputs": [
    {
     "name": "stdout",
     "output_type": "stream",
     "text": [
      "/c/Users/mchen/Desktop/Course/student_a7/jupyterlab_practice\n"
     ]
    }
   ],
   "source": [
    "!pwd"
   ]
  },
  {
   "cell_type": "markdown",
   "id": "4751e959-e6d8-4e94-b2e7-4b9065ed685c",
   "metadata": {},
   "source": [
    "**To time how long it takes to run a Python cell, we could use the timeit command inside a cell as is shown below: Followed by the proper use of the timeit command to time the following loop:**\n",
    "\n",
    " ```python\n",
    "    %%timeit\n",
    "    for i in range(1_000_000):\n",
    "        i**2\n",
    "    ```"
   ]
  },
  {
   "cell_type": "code",
   "execution_count": 2,
   "id": "ffec37ab-0182-48af-9282-fcfda4cfb4f1",
   "metadata": {},
   "outputs": [
    {
     "name": "stdout",
     "output_type": "stream",
     "text": [
      "54.8 ms ± 1.33 ms per loop (mean ± std. dev. of 7 runs, 10 loops each)\n"
     ]
    }
   ],
   "source": [
    "%%timeit\n",
    "for i in range(1_000_000):\n",
    "    i**2"
   ]
  },
  {
   "cell_type": "code",
   "execution_count": 3,
   "id": "3d7a34e4-3efb-4dab-8c31-42d863fdb209",
   "metadata": {},
   "outputs": [
    {
     "name": "stderr",
     "output_type": "stream",
     "text": [
      "[NbConvertApp] Converting notebook question12.ipynb to html\n",
      "[NbConvertApp] Writing 272013 bytes to question12.html\n"
     ]
    }
   ],
   "source": [
    "# Export notebook without code cells\n",
    "!jupyter nbconvert --to html --no-input question12.ipynb\n"
   ]
  }
 ],
 "metadata": {
  "kernelspec": {
   "display_name": "Python (practice-env)",
   "language": "python",
   "name": "practice-env"
  },
  "language_info": {
   "codemirror_mode": {
    "name": "ipython",
    "version": 3
   },
   "file_extension": ".py",
   "mimetype": "text/x-python",
   "name": "python",
   "nbconvert_exporter": "python",
   "pygments_lexer": "ipython3",
   "version": "3.12.3"
  }
 },
 "nbformat": 4,
 "nbformat_minor": 5
}
