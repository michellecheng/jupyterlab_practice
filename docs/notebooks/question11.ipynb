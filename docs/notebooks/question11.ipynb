{
 "cells": [
  {
   "cell_type": "markdown",
   "id": "bc02afab-0ef8-4ec9-9272-888a9f231435",
   "metadata": {},
   "source": [
    "# Notebook for Assignment 7: Michelle Cheng (mcheng37)"
   ]
  },
  {
   "cell_type": "code",
   "execution_count": 5,
   "id": "bd077b9a-e681-4746-82b2-5657b3adbe24",
   "metadata": {},
   "outputs": [
    {
     "name": "stdout",
     "output_type": "stream",
     "text": [
      "5.0\n"
     ]
    }
   ],
   "source": [
    "# Python function that computes the mean of the values in a list and prints the results. \n",
    "\n",
    "def compute_mean(num_list):\n",
    "    mean = sum(num_list) / len(num_list)\n",
    "    print(mean)\n",
    "\n",
    "compute_mean([2,4,6,8])"
   ]
  },
  {
   "cell_type": "markdown",
   "id": "7dd7be71-c23d-4fa2-bfad-ec85b6539056",
   "metadata": {},
   "source": [
    "## LaTeX\n",
    "1) \n",
    "$$\n",
    "\\bar{x} = \\frac{1}{n} \\left(\\sum_{i=1}^{n} x_i \\right) =\\frac{2 + 4 + 6 + 8}{4} = \\frac{20}{4} = 5\n",
    "$$\n",
    "\n",
    "2) \n",
    "$$\n",
    "\\bar{x} = \\frac{1}{n} \\sum_{i=1}^{n} x_i = \\frac{x_1 + x_2 + x_3 + x_4 + \\cdots + x_n}{n} = \\frac{2 + 4 + 6 + 8}{4} = 5\n",
    "$$"
   ]
  }
 ],
 "metadata": {
  "kernelspec": {
   "display_name": "Python (practice-env)",
   "language": "python",
   "name": "practice-env"
  },
  "language_info": {
   "codemirror_mode": {
    "name": "ipython",
    "version": 3
   },
   "file_extension": ".py",
   "mimetype": "text/x-python",
   "name": "python",
   "nbconvert_exporter": "python",
   "pygments_lexer": "ipython3",
   "version": "3.12.3"
  }
 },
 "nbformat": 4,
 "nbformat_minor": 5
}
